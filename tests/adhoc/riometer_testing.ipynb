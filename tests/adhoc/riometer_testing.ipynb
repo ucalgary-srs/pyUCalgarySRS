{
 "cells": [
  {
   "cell_type": "code",
   "execution_count": 10,
   "metadata": {},
   "outputs": [
    {
     "data": {
      "text/html": [
       "<style>\n",
       ".cell-output-ipywidget-background {\n",
       "    background-color: transparent !important;\n",
       "}\n",
       ":root {\n",
       "    --jp-widgets-color: var(--vscode-editor-foreground);\n",
       "    --jp-widgets-font-size: var(--vscode-editor-font-size);\n",
       "}  \n",
       "</style>\n"
      ],
      "text/plain": [
       "<IPython.core.display.HTML object>"
      ]
     },
     "metadata": {},
     "output_type": "display_data"
    }
   ],
   "source": [
    "%%html\n",
    "<style>\n",
    ".cell-output-ipywidget-background {\n",
    "    background-color: transparent !important;\n",
    "}\n",
    ":root {\n",
    "    --jp-widgets-color: var(--vscode-editor-foreground);\n",
    "    --jp-widgets-font-size: var(--vscode-editor-font-size);\n",
    "}  \n",
    "</style>"
   ]
  },
  {
   "cell_type": "code",
   "execution_count": 1,
   "metadata": {},
   "outputs": [],
   "source": [
    "import datetime\n",
    "import pyucalgarysrs\n",
    "srs = pyucalgarysrs.PyUCalgarySRS()"
   ]
  },
  {
   "cell_type": "markdown",
   "metadata": {},
   "source": [
    "# Download data"
   ]
  },
  {
   "cell_type": "code",
   "execution_count": 4,
   "metadata": {},
   "outputs": [
    {
     "data": {
      "text/plain": [
       "[Dataset(name=NORSTAR_RIOMETER_K0_TXT, short_description='NORSTAR Single Frequency Riometers K0 raw data, in ASCII format', provider='UCalgary', level='L0', doi_details='Coming soon', ...),\n",
       " Dataset(name=NORSTAR_RIOMETER_K2_TXT, short_description='NORSTAR Single Frequency Riometers K2 baselined data, in ASCII format', provider='UCalgary', level='L2', doi_details='Coming soon', ...)]"
      ]
     },
     "execution_count": 4,
     "metadata": {},
     "output_type": "execute_result"
    }
   ],
   "source": [
    "# list riometer datasets\n",
    "srs.data.list_datasets(name=\"riometer\")"
   ]
  },
  {
   "cell_type": "code",
   "execution_count": 5,
   "metadata": {},
   "outputs": [
    {
     "name": "stdout",
     "output_type": "stream",
     "text": [
      "FileListingResponse:\n",
      "  count        : 365\n",
      "  dataset      : Dataset(name=NORSTAR_RIOMETER_K0_TXT, short_description='NORSTAR Single Frequency Riometers K0 raw data, in ASCII format', provider='UCalgary', level='L0', doi_details='Coming soon', ...)\n",
      "  path_prefix  : https://data.phys.ucalgary.ca/sort_by_project/GO-Canada/GO-Rio/txt\n",
      "  total_bytes  : 195775780\n",
      "  urls         : [365 URLs]\n"
     ]
    }
   ],
   "source": [
    "# get a year of GILL URLs\n",
    "start_dt = datetime.datetime(2010, 1, 1, 0, 0, 0)\n",
    "end_dt = datetime.datetime(2010, 12, 31, 23, 59, 59)\n",
    "res = srs.data.get_urls(\"NORSTAR_RIOMETER_K0_TXT\", start_dt, end_dt, site_uid=\"gill\")\n",
    "res.pretty_print()"
   ]
  },
  {
   "cell_type": "code",
   "execution_count": 6,
   "metadata": {},
   "outputs": [
    {
     "data": {
      "application/vnd.jupyter.widget-view+json": {
       "model_id": "11858ff51b9e48cca3eabdcc6a9a0a6a",
       "version_major": 2,
       "version_minor": 0
      },
      "text/plain": [
       "Downloading NORSTAR_RIOMETER_K0_TXT files:   0%|          | 0.00/196M [00:00<?, ?B/s]"
      ]
     },
     "metadata": {},
     "output_type": "display_data"
    },
    {
     "name": "stdout",
     "output_type": "stream",
     "text": [
      "FileListingResponse:\n",
      "  count             : 365\n",
      "  dataset           : Dataset(name=NORSTAR_RIOMETER_K0_TXT, short_description='NORSTAR Single Frequency Riometers K0 raw data, in ASCII format', provider='UCalgary', level='L0', doi_details='Coming soon', ...)\n",
      "  filenames         : [365 filenames]\n",
      "  output_root_path  : /home/darrenc/pyucalgarysrs_data/NORSTAR_RIOMETER_K0_TXT\n",
      "  total_bytes       : 195775780\n"
     ]
    }
   ],
   "source": [
    "# download a year of GILL data\n",
    "start_dt = datetime.datetime(2010, 1, 1, 0, 0, 0)\n",
    "end_dt = datetime.datetime(2010, 12, 31, 23, 59, 59)\n",
    "res = srs.data.download(\"NORSTAR_RIOMETER_K0_TXT\", start_dt, end_dt, site_uid=\"gill\", overwrite=True)\n",
    "res.pretty_print()"
   ]
  },
  {
   "cell_type": "code",
   "execution_count": 7,
   "metadata": {},
   "outputs": [
    {
     "data": {
      "application/vnd.jupyter.widget-view+json": {
       "model_id": "c99ec134cdf246f3b2cc2697a25bf93a",
       "version_major": 2,
       "version_minor": 0
      },
      "text/plain": [
       "Downloading NORSTAR_RIOMETER_K0_TXT files:   0%|          | 0.00/159M [00:00<?, ?B/s]"
      ]
     },
     "metadata": {},
     "output_type": "display_data"
    },
    {
     "name": "stdout",
     "output_type": "stream",
     "text": [
      "FileListingResponse:\n",
      "  count             : 297\n",
      "  dataset           : Dataset(name=NORSTAR_RIOMETER_K0_TXT, short_description='NORSTAR Single Frequency Riometers K0 raw data, in ASCII format', provider='UCalgary', level='L0', doi_details='Coming soon', ...)\n",
      "  filenames         : [297 filenames]\n",
      "  output_root_path  : /home/darrenc/pyucalgarysrs_data/NORSTAR_RIOMETER_K0_TXT\n",
      "  total_bytes       : 0\n"
     ]
    }
   ],
   "source": [
    "# download a month of all K0 data\n",
    "start_dt = datetime.datetime(2010, 1, 1, 0, 0, 0)\n",
    "end_dt = datetime.datetime(2010, 1, 31, 23, 59, 59)\n",
    "res = srs.data.download(\"NORSTAR_RIOMETER_K0_TXT\", start_dt, end_dt)\n",
    "res.pretty_print()"
   ]
  },
  {
   "cell_type": "code",
   "execution_count": 8,
   "metadata": {},
   "outputs": [
    {
     "data": {
      "application/vnd.jupyter.widget-view+json": {
       "model_id": "7f968036a786485d89356e0bc61e1aad",
       "version_major": 2,
       "version_minor": 0
      },
      "text/plain": [
       "Downloading NORSTAR_RIOMETER_K2_TXT files:   0%|          | 0.00/256M [00:00<?, ?B/s]"
      ]
     },
     "metadata": {},
     "output_type": "display_data"
    },
    {
     "name": "stdout",
     "output_type": "stream",
     "text": [
      "FileListingResponse:\n",
      "  count             : 355\n",
      "  dataset           : Dataset(name=NORSTAR_RIOMETER_K2_TXT, short_description='NORSTAR Single Frequency Riometers K2 baselined data, in ASCII format', provider='UCalgary', level='L2', doi_details='Coming soon', ...)\n",
      "  filenames         : [355 filenames]\n",
      "  output_root_path  : /home/darrenc/pyucalgarysrs_data/NORSTAR_RIOMETER_K2_TXT\n",
      "  total_bytes       : 0\n"
     ]
    }
   ],
   "source": [
    "# download a month of all K2 data\n",
    "start_dt = datetime.datetime(1995, 1, 1, 0, 0, 0)\n",
    "end_dt = datetime.datetime(1995, 1, 31, 23, 59, 59)\n",
    "res = srs.data.download(\"NORSTAR_RIOMETER_K2_TXT\", start_dt, end_dt)\n",
    "res.pretty_print()"
   ]
  },
  {
   "cell_type": "markdown",
   "metadata": {},
   "source": [
    "# Read data"
   ]
  },
  {
   "cell_type": "code",
   "execution_count": 1,
   "metadata": {},
   "outputs": [
    {
     "data": {
      "application/vnd.jupyter.widget-view+json": {
       "model_id": "e54806901f504d69bfe33c878357d239",
       "version_major": 2,
       "version_minor": 0
      },
      "text/plain": [
       "Downloading NORSTAR_RIOMETER_K2_TXT files:   0%|          | 0.00/3.81M [00:00<?, ?B/s]"
      ]
     },
     "metadata": {},
     "output_type": "display_data"
    },
    {
     "ename": "ValueError",
     "evalue": "could not convert string '01/01/10' to float64 at row 0, column 1.",
     "output_type": "error",
     "traceback": [
      "\u001b[0;31m---------------------------------------------------------------------------\u001b[0m",
      "\u001b[0;31mRemoteTraceback\u001b[0m                           Traceback (most recent call last)",
      "\u001b[0;31mRemoteTraceback\u001b[0m: \n\"\"\"\nTraceback (most recent call last):\n  File \"/opt/miniconda/envs/pyucalgarysrs39/lib/python3.9/multiprocessing/pool.py\", line 125, in worker\n    result = (True, func(*args, **kwds))\n  File \"/opt/miniconda/envs/pyucalgarysrs39/lib/python3.9/multiprocessing/pool.py\", line 48, in mapstar\n    return list(map(*args))\n  File \"/usr/local/src/pyUCalgarySRS/pyucalgarysrs/data/read/_norstar_riometer.py\", line 73, in __riometer_readfile_worker\n    read_data = np.loadtxt(file, comments='#')\n  File \"/opt/miniconda/envs/pyucalgarysrs39/lib/python3.9/site-packages/numpy/lib/npyio.py\", line 1373, in loadtxt\n    arr = _read(fname, dtype=dtype, comment=comment, delimiter=delimiter,\n  File \"/opt/miniconda/envs/pyucalgarysrs39/lib/python3.9/site-packages/numpy/lib/npyio.py\", line 1016, in _read\n    arr = _load_from_filelike(\nValueError: could not convert string '01/01/10' to float64 at row 0, column 1.\n\"\"\"",
      "\nThe above exception was the direct cause of the following exception:\n",
      "\u001b[0;31mValueError\u001b[0m                                Traceback (most recent call last)",
      "Cell \u001b[0;32mIn[1], line 11\u001b[0m\n\u001b[1;32m      8\u001b[0m res \u001b[38;5;241m=\u001b[39m srs\u001b[38;5;241m.\u001b[39mdata\u001b[38;5;241m.\u001b[39mdownload(\u001b[38;5;124m\"\u001b[39m\u001b[38;5;124mNORSTAR_RIOMETER_K2_TXT\u001b[39m\u001b[38;5;124m\"\u001b[39m, start_dt, end_dt, site_uid\u001b[38;5;241m=\u001b[39m\u001b[38;5;124m\"\u001b[39m\u001b[38;5;124mgill\u001b[39m\u001b[38;5;124m\"\u001b[39m)\n\u001b[1;32m     10\u001b[0m \u001b[38;5;66;03m# read the data\u001b[39;00m\n\u001b[0;32m---> 11\u001b[0m data \u001b[38;5;241m=\u001b[39m \u001b[43msrs\u001b[49m\u001b[38;5;241;43m.\u001b[39;49m\u001b[43mdata\u001b[49m\u001b[38;5;241;43m.\u001b[39;49m\u001b[43mread\u001b[49m\u001b[43m(\u001b[49m\u001b[43mres\u001b[49m\u001b[38;5;241;43m.\u001b[39;49m\u001b[43mdataset\u001b[49m\u001b[43m,\u001b[49m\u001b[43m \u001b[49m\u001b[43mres\u001b[49m\u001b[38;5;241;43m.\u001b[39;49m\u001b[43mfilenames\u001b[49m\u001b[43m,\u001b[49m\u001b[43m \u001b[49m\u001b[43mn_parallel\u001b[49m\u001b[38;5;241;43m=\u001b[39;49m\u001b[38;5;241;43m2\u001b[39;49m\u001b[43m)\u001b[49m\n",
      "File \u001b[0;32m/usr/local/src/pyUCalgarySRS/pyucalgarysrs/data/__init__.py:482\u001b[0m, in \u001b[0;36mDataManager.read\u001b[0;34m(self, dataset, file_list, n_parallel, first_record, no_metadata, quiet)\u001b[0m\n\u001b[1;32m    424\u001b[0m \u001b[38;5;28;01mdef\u001b[39;00m \u001b[38;5;21mread\u001b[39m(\u001b[38;5;28mself\u001b[39m,\n\u001b[1;32m    425\u001b[0m          dataset: Dataset,\n\u001b[1;32m    426\u001b[0m          file_list: Union[List[\u001b[38;5;28mstr\u001b[39m], List[Path], \u001b[38;5;28mstr\u001b[39m, Path],\n\u001b[0;32m   (...)\u001b[0m\n\u001b[1;32m    429\u001b[0m          no_metadata: \u001b[38;5;28mbool\u001b[39m \u001b[38;5;241m=\u001b[39m \u001b[38;5;28;01mFalse\u001b[39;00m,\n\u001b[1;32m    430\u001b[0m          quiet: \u001b[38;5;28mbool\u001b[39m \u001b[38;5;241m=\u001b[39m \u001b[38;5;28;01mFalse\u001b[39;00m) \u001b[38;5;241m-\u001b[39m\u001b[38;5;241m>\u001b[39m Data:\n\u001b[1;32m    431\u001b[0m \u001b[38;5;250m    \u001b[39m\u001b[38;5;124;03m\"\"\"\u001b[39;00m\n\u001b[1;32m    432\u001b[0m \u001b[38;5;124;03m    Read in data files for a given dataset. Note that only one type of dataset's data\u001b[39;00m\n\u001b[1;32m    433\u001b[0m \u001b[38;5;124;03m    should be read in using a single call.\u001b[39;00m\n\u001b[0;32m   (...)\u001b[0m\n\u001b[1;32m    480\u001b[0m \u001b[38;5;124;03m    future.\u001b[39;00m\n\u001b[1;32m    481\u001b[0m \u001b[38;5;124;03m    \"\"\"\u001b[39;00m\n\u001b[0;32m--> 482\u001b[0m     \u001b[38;5;28;01mreturn\u001b[39;00m \u001b[38;5;28;43mself\u001b[39;49m\u001b[38;5;241;43m.\u001b[39;49m\u001b[43mreaders\u001b[49m\u001b[38;5;241;43m.\u001b[39;49m\u001b[43mread\u001b[49m\u001b[43m(\u001b[49m\n\u001b[1;32m    483\u001b[0m \u001b[43m        \u001b[49m\u001b[43mdataset\u001b[49m\u001b[43m,\u001b[49m\n\u001b[1;32m    484\u001b[0m \u001b[43m        \u001b[49m\u001b[43mfile_list\u001b[49m\u001b[43m,\u001b[49m\n\u001b[1;32m    485\u001b[0m \u001b[43m        \u001b[49m\u001b[43mn_parallel\u001b[49m\u001b[38;5;241;43m=\u001b[39;49m\u001b[43mn_parallel\u001b[49m\u001b[43m,\u001b[49m\n\u001b[1;32m    486\u001b[0m \u001b[43m        \u001b[49m\u001b[43mfirst_record\u001b[49m\u001b[38;5;241;43m=\u001b[39;49m\u001b[43mfirst_record\u001b[49m\u001b[43m,\u001b[49m\n\u001b[1;32m    487\u001b[0m \u001b[43m        \u001b[49m\u001b[43mno_metadata\u001b[49m\u001b[38;5;241;43m=\u001b[39;49m\u001b[43mno_metadata\u001b[49m\u001b[43m,\u001b[49m\n\u001b[1;32m    488\u001b[0m \u001b[43m        \u001b[49m\u001b[43mquiet\u001b[49m\u001b[38;5;241;43m=\u001b[39;49m\u001b[43mquiet\u001b[49m\u001b[43m,\u001b[49m\n\u001b[1;32m    489\u001b[0m \u001b[43m    \u001b[49m\u001b[43m)\u001b[49m\n",
      "File \u001b[0;32m/usr/local/src/pyUCalgarySRS/pyucalgarysrs/data/read/__init__.py:231\u001b[0m, in \u001b[0;36mReadManager.read\u001b[0;34m(self, dataset, file_list, n_parallel, first_record, no_metadata, quiet)\u001b[0m\n\u001b[1;32m    229\u001b[0m     \u001b[38;5;28;01mreturn\u001b[39;00m \u001b[38;5;28mself\u001b[39m\u001b[38;5;241m.\u001b[39mread_grid(file_list, n_parallel\u001b[38;5;241m=\u001b[39mn_parallel, quiet\u001b[38;5;241m=\u001b[39mquiet, dataset\u001b[38;5;241m=\u001b[39mdataset)\n\u001b[1;32m    230\u001b[0m \u001b[38;5;28;01melif\u001b[39;00m (dataset\u001b[38;5;241m.\u001b[39mname \u001b[38;5;129;01min\u001b[39;00m \u001b[38;5;28mself\u001b[39m\u001b[38;5;241m.\u001b[39m__VALID_RIOMETER_TXT_READFILE_DATASETS):\n\u001b[0;32m--> 231\u001b[0m     \u001b[38;5;28;01mreturn\u001b[39;00m \u001b[38;5;28;43mself\u001b[39;49m\u001b[38;5;241;43m.\u001b[39;49m\u001b[43mread_riometer_txt\u001b[49m\u001b[43m(\u001b[49m\u001b[43mfile_list\u001b[49m\u001b[43m,\u001b[49m\u001b[43m \u001b[49m\u001b[43mn_parallel\u001b[49m\u001b[38;5;241;43m=\u001b[39;49m\u001b[43mn_parallel\u001b[49m\u001b[43m,\u001b[49m\u001b[43m \u001b[49m\u001b[43mquiet\u001b[49m\u001b[38;5;241;43m=\u001b[39;49m\u001b[43mquiet\u001b[49m\u001b[43m,\u001b[49m\u001b[43m \u001b[49m\u001b[43mdataset\u001b[49m\u001b[38;5;241;43m=\u001b[39;49m\u001b[43mdataset\u001b[49m\u001b[43m)\u001b[49m\n\u001b[1;32m    232\u001b[0m \u001b[38;5;28;01melif\u001b[39;00m (dataset\u001b[38;5;241m.\u001b[39mname \u001b[38;5;129;01min\u001b[39;00m \u001b[38;5;28mself\u001b[39m\u001b[38;5;241m.\u001b[39m__VALID_SWAN_HSR_READFILE_DATASETS):\n\u001b[1;32m    233\u001b[0m     \u001b[38;5;28;01mreturn\u001b[39;00m \u001b[38;5;28mself\u001b[39m\u001b[38;5;241m.\u001b[39mread_swan_hsr(file_list, n_parallel\u001b[38;5;241m=\u001b[39mn_parallel, quiet\u001b[38;5;241m=\u001b[39mquiet, dataset\u001b[38;5;241m=\u001b[39mdataset)\n",
      "File \u001b[0;32m/usr/local/src/pyUCalgarySRS/pyucalgarysrs/data/read/__init__.py:1111\u001b[0m, in \u001b[0;36mReadManager.read_riometer_txt\u001b[0;34m(self, file_list, n_parallel, no_metadata, quiet, dataset)\u001b[0m\n\u001b[1;32m   1075\u001b[0m \u001b[38;5;250m\u001b[39m\u001b[38;5;124;03m\"\"\"\u001b[39;00m\n\u001b[1;32m   1076\u001b[0m \u001b[38;5;124;03mRead in NORSTAR Riometer ASCII data (K0 or K2 txt files).\u001b[39;00m\n\u001b[1;32m   1077\u001b[0m \n\u001b[0;32m   (...)\u001b[0m\n\u001b[1;32m   1108\u001b[0m \u001b[38;5;124;03m    pyucalgarysrs.exceptions.SRSError: a generic read error was encountered\u001b[39;00m\n\u001b[1;32m   1109\u001b[0m \u001b[38;5;124;03m\"\"\"\u001b[39;00m\n\u001b[1;32m   1110\u001b[0m \u001b[38;5;66;03m# read data\u001b[39;00m\n\u001b[0;32m-> 1111\u001b[0m timestamp, data, meta, problematic_files \u001b[38;5;241m=\u001b[39m \u001b[43mfunc_read_riometer_txt\u001b[49m\u001b[43m(\u001b[49m\n\u001b[1;32m   1112\u001b[0m \u001b[43m    \u001b[49m\u001b[43mfile_list\u001b[49m\u001b[43m,\u001b[49m\n\u001b[1;32m   1113\u001b[0m \u001b[43m    \u001b[49m\u001b[43mn_parallel\u001b[49m\u001b[38;5;241;43m=\u001b[39;49m\u001b[43mn_parallel\u001b[49m\u001b[43m,\u001b[49m\n\u001b[1;32m   1114\u001b[0m \u001b[43m    \u001b[49m\u001b[43mno_metadata\u001b[49m\u001b[38;5;241;43m=\u001b[39;49m\u001b[43mno_metadata\u001b[49m\u001b[43m,\u001b[49m\n\u001b[1;32m   1115\u001b[0m \u001b[43m    \u001b[49m\u001b[43mquiet\u001b[49m\u001b[38;5;241;43m=\u001b[39;49m\u001b[43mquiet\u001b[49m\u001b[43m,\u001b[49m\n\u001b[1;32m   1116\u001b[0m \u001b[43m\u001b[49m\u001b[43m)\u001b[49m\n",
      "File \u001b[0;32m/usr/local/src/pyUCalgarySRS/pyucalgarysrs/data/read/_norstar_riometer.py:46\u001b[0m, in \u001b[0;36mread_txt\u001b[0;34m(file_list, n_parallel, no_metadata, quiet)\u001b[0m\n\u001b[1;32m     44\u001b[0m data \u001b[38;5;241m=\u001b[39m []\n\u001b[1;32m     45\u001b[0m \u001b[38;5;28;01mtry\u001b[39;00m:\n\u001b[0;32m---> 46\u001b[0m     data \u001b[38;5;241m=\u001b[39m \u001b[43mpool\u001b[49m\u001b[38;5;241;43m.\u001b[39;49m\u001b[43mmap\u001b[49m\u001b[43m(\u001b[49m\u001b[43mpartial\u001b[49m\u001b[43m(\u001b[49m\n\u001b[1;32m     47\u001b[0m \u001b[43m        \u001b[49m\u001b[43m__riometer_readfile_worker\u001b[49m\u001b[43m,\u001b[49m\n\u001b[1;32m     48\u001b[0m \u001b[43m        \u001b[49m\u001b[43mno_metadata\u001b[49m\u001b[38;5;241;43m=\u001b[39;49m\u001b[43mno_metadata\u001b[49m\u001b[43m,\u001b[49m\n\u001b[1;32m     49\u001b[0m \u001b[43m        \u001b[49m\u001b[43mquiet\u001b[49m\u001b[38;5;241;43m=\u001b[39;49m\u001b[43mquiet\u001b[49m\u001b[43m,\u001b[49m\n\u001b[1;32m     50\u001b[0m \u001b[43m    \u001b[49m\u001b[43m)\u001b[49m\u001b[43m,\u001b[49m\u001b[43m \u001b[49m\u001b[43mfile_list\u001b[49m\u001b[43m)\u001b[49m\n\u001b[1;32m     51\u001b[0m \u001b[38;5;28;01mexcept\u001b[39;00m \u001b[38;5;167;01mKeyboardInterrupt\u001b[39;00m:  \u001b[38;5;66;03m# pragma: nocover\u001b[39;00m\n\u001b[1;32m     52\u001b[0m     pool\u001b[38;5;241m.\u001b[39mterminate()  \u001b[38;5;66;03m# gracefully kill children\u001b[39;00m\n",
      "File \u001b[0;32m/opt/miniconda/envs/pyucalgarysrs39/lib/python3.9/multiprocessing/pool.py:364\u001b[0m, in \u001b[0;36mPool.map\u001b[0;34m(self, func, iterable, chunksize)\u001b[0m\n\u001b[1;32m    359\u001b[0m \u001b[38;5;28;01mdef\u001b[39;00m \u001b[38;5;21mmap\u001b[39m(\u001b[38;5;28mself\u001b[39m, func, iterable, chunksize\u001b[38;5;241m=\u001b[39m\u001b[38;5;28;01mNone\u001b[39;00m):\n\u001b[1;32m    360\u001b[0m \u001b[38;5;250m    \u001b[39m\u001b[38;5;124;03m'''\u001b[39;00m\n\u001b[1;32m    361\u001b[0m \u001b[38;5;124;03m    Apply `func` to each element in `iterable`, collecting the results\u001b[39;00m\n\u001b[1;32m    362\u001b[0m \u001b[38;5;124;03m    in a list that is returned.\u001b[39;00m\n\u001b[1;32m    363\u001b[0m \u001b[38;5;124;03m    '''\u001b[39;00m\n\u001b[0;32m--> 364\u001b[0m     \u001b[38;5;28;01mreturn\u001b[39;00m \u001b[38;5;28;43mself\u001b[39;49m\u001b[38;5;241;43m.\u001b[39;49m\u001b[43m_map_async\u001b[49m\u001b[43m(\u001b[49m\u001b[43mfunc\u001b[49m\u001b[43m,\u001b[49m\u001b[43m \u001b[49m\u001b[43miterable\u001b[49m\u001b[43m,\u001b[49m\u001b[43m \u001b[49m\u001b[43mmapstar\u001b[49m\u001b[43m,\u001b[49m\u001b[43m \u001b[49m\u001b[43mchunksize\u001b[49m\u001b[43m)\u001b[49m\u001b[38;5;241;43m.\u001b[39;49m\u001b[43mget\u001b[49m\u001b[43m(\u001b[49m\u001b[43m)\u001b[49m\n",
      "File \u001b[0;32m/opt/miniconda/envs/pyucalgarysrs39/lib/python3.9/multiprocessing/pool.py:771\u001b[0m, in \u001b[0;36mApplyResult.get\u001b[0;34m(self, timeout)\u001b[0m\n\u001b[1;32m    769\u001b[0m     \u001b[38;5;28;01mreturn\u001b[39;00m \u001b[38;5;28mself\u001b[39m\u001b[38;5;241m.\u001b[39m_value\n\u001b[1;32m    770\u001b[0m \u001b[38;5;28;01melse\u001b[39;00m:\n\u001b[0;32m--> 771\u001b[0m     \u001b[38;5;28;01mraise\u001b[39;00m \u001b[38;5;28mself\u001b[39m\u001b[38;5;241m.\u001b[39m_value\n",
      "\u001b[0;31mValueError\u001b[0m: could not convert string '01/01/10' to float64 at row 0, column 1."
     ]
    }
   ],
   "source": [
    "import datetime\n",
    "import pyucalgarysrs\n",
    "srs = pyucalgarysrs.PyUCalgarySRS()\n",
    "\n",
    "# get several days of GILL K2 data\n",
    "start_dt = datetime.datetime(2010, 1, 1, 0, 0, 0)\n",
    "end_dt = datetime.datetime(2010, 1, 5, 23, 59, 59)\n",
    "res = srs.data.download(\"NORSTAR_RIOMETER_K2_TXT\", start_dt, end_dt, site_uid=\"gill\")\n",
    "\n",
    "# read the data\n",
    "data = srs.data.read(res.dataset, res.filenames, n_parallel=2)"
   ]
  },
  {
   "cell_type": "code",
   "execution_count": null,
   "metadata": {},
   "outputs": [],
   "source": []
  }
 ],
 "metadata": {
  "kernelspec": {
   "display_name": "pyucalgarysrs39",
   "language": "python",
   "name": "python3"
  },
  "language_info": {
   "codemirror_mode": {
    "name": "ipython",
    "version": 3
   },
   "file_extension": ".py",
   "mimetype": "text/x-python",
   "name": "python",
   "nbconvert_exporter": "python",
   "pygments_lexer": "ipython3",
   "version": "3.9.19"
  }
 },
 "nbformat": 4,
 "nbformat_minor": 2
}
