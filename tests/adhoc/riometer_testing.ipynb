{
 "cells": [
  {
   "cell_type": "code",
   "execution_count": 1,
   "metadata": {},
   "outputs": [],
   "source": [
    "import datetime\n",
    "import pyucalgarysrs\n",
    "srs = pyucalgarysrs.PyUCalgarySRS()"
   ]
  },
  {
   "cell_type": "code",
   "execution_count": 2,
   "metadata": {},
   "outputs": [
    {
     "data": {
      "text/plain": [
       "[Dataset(name=NORSTAR_RIOMETER_K0_TXT, short_description='NORSTAR Single Frequency Riometers K0 raw data, in ASCII format', provider='UCalgary', level='L0', doi_details='Coming soon', ...),\n",
       " Dataset(name=NORSTAR_RIOMETER_K2_TXT, short_description='NORSTAR Single Frequency Riometers K2 baselined data, in ASCII format', provider='UCalgary', level='L2', doi_details='Coming soon', ...)]"
      ]
     },
     "execution_count": 2,
     "metadata": {},
     "output_type": "execute_result"
    }
   ],
   "source": [
    "# list riometer datasets\n",
    "srs.data.list_datasets(name=\"riometer\")"
   ]
  },
  {
   "cell_type": "code",
   "execution_count": 3,
   "metadata": {},
   "outputs": [
    {
     "name": "stdout",
     "output_type": "stream",
     "text": [
      "FileListingResponse:\n",
      "  count        : 365\n",
      "  dataset      : Dataset(name=NORSTAR_RIOMETER_K0_TXT, short_description='NORSTAR Single Frequency Riometers K0 raw data, in ASCII format', provider='UCalgary', level='L0', doi_details='Coming soon', ...)\n",
      "  path_prefix  : https://data.phys.ucalgary.ca/sort_by_project/GO-Canada/GO-Rio/txt\n",
      "  total_bytes  : 195775780\n",
      "  urls         : [365 URLs]\n"
     ]
    }
   ],
   "source": [
    "# get a year of GILL URLs\n",
    "start_dt = datetime.datetime(2010, 1, 1, 0, 0, 0)\n",
    "end_dt = datetime.datetime(2010, 12, 31, 23, 59, 59)\n",
    "res = srs.data.get_urls(\"NORSTAR_RIOMETER_K0_TXT\", start_dt, end_dt, site_uid=\"gill\")\n",
    "res.pretty_print()"
   ]
  },
  {
   "cell_type": "code",
   "execution_count": null,
   "metadata": {},
   "outputs": [
    {
     "data": {
      "application/vnd.jupyter.widget-view+json": {
       "model_id": "dd22fa0f51524a129b2fe4c2bb7cd2f0",
       "version_major": 2,
       "version_minor": 0
      },
      "text/plain": [
       "Downloading NORSTAR_RIOMETER_K0_TXT files:   0%|          | 0.00/196M [00:00<?, ?B/s]"
      ]
     },
     "metadata": {},
     "output_type": "display_data"
    },
    {
     "name": "stdout",
     "output_type": "stream",
     "text": [
      "FileListingResponse:\n",
      "  count             : 365\n",
      "  dataset           : Dataset(name=NORSTAR_RIOMETER_K0_TXT, short_description='NORSTAR Single Frequency Riometers K0 raw data, in ASCII format', provider='UCalgary', level='L0', doi_details='Coming soon', ...)\n",
      "  filenames         : [365 filenames]\n",
      "  output_root_path  : /home/darrenc/pyucalgarysrs_data/NORSTAR_RIOMETER_K0_TXT\n",
      "  total_bytes       : 195775780\n"
     ]
    }
   ],
   "source": [
    "# download a year of GILL data\n",
    "start_dt = datetime.datetime(2010, 1, 1, 0, 0, 0)\n",
    "end_dt = datetime.datetime(2010, 12, 31, 23, 59, 59)\n",
    "res = srs.data.download(\"NORSTAR_RIOMETER_K0_TXT\", start_dt, end_dt, site_uid=\"gill\", overwrite=True)\n",
    "res.pretty_print()"
   ]
  },
  {
   "cell_type": "code",
   "execution_count": 5,
   "metadata": {},
   "outputs": [
    {
     "data": {
      "application/vnd.jupyter.widget-view+json": {
       "model_id": "c075bd4a6bf448e09e53275dbe63d91f",
       "version_major": 2,
       "version_minor": 0
      },
      "text/plain": [
       "Downloading NORSTAR_RIOMETER_K0_TXT files:   0%|          | 0.00/159M [00:00<?, ?B/s]"
      ]
     },
     "metadata": {},
     "output_type": "display_data"
    },
    {
     "name": "stdout",
     "output_type": "stream",
     "text": [
      "FileListingResponse:\n",
      "  count             : 297\n",
      "  dataset           : Dataset(name=NORSTAR_RIOMETER_K0_TXT, short_description='NORSTAR Single Frequency Riometers K0 raw data, in ASCII format', provider='UCalgary', level='L0', doi_details='Coming soon', ...)\n",
      "  filenames         : [297 filenames]\n",
      "  output_root_path  : /home/darrenc/pyucalgarysrs_data/NORSTAR_RIOMETER_K0_TXT\n",
      "  total_bytes       : 159302484\n"
     ]
    }
   ],
   "source": [
    "# download a month of all K0 data\n",
    "start_dt = datetime.datetime(2010, 1, 1, 0, 0, 0)\n",
    "end_dt = datetime.datetime(2010, 1, 31, 23, 59, 59)\n",
    "res = srs.data.download(\"NORSTAR_RIOMETER_K0_TXT\", start_dt, end_dt, overwrite=True)\n",
    "res.pretty_print()"
   ]
  },
  {
   "cell_type": "code",
   "execution_count": 7,
   "metadata": {},
   "outputs": [
    {
     "data": {
      "application/vnd.jupyter.widget-view+json": {
       "model_id": "9cabf22a3918456096799418e6e1ac8f",
       "version_major": 2,
       "version_minor": 0
      },
      "text/plain": [
       "Downloading NORSTAR_RIOMETER_K2_TXT files:   0%|          | 0.00/256M [00:00<?, ?B/s]"
      ]
     },
     "metadata": {},
     "output_type": "display_data"
    },
    {
     "name": "stdout",
     "output_type": "stream",
     "text": [
      "FileListingResponse:\n",
      "  count             : 355\n",
      "  dataset           : Dataset(name=NORSTAR_RIOMETER_K2_TXT, short_description='NORSTAR Single Frequency Riometers K2 baselined data, in ASCII format', provider='UCalgary', level='L2', doi_details='Coming soon', ...)\n",
      "  filenames         : [355 filenames]\n",
      "  output_root_path  : /home/darrenc/pyucalgarysrs_data/NORSTAR_RIOMETER_K2_TXT\n",
      "  total_bytes       : 255623185\n"
     ]
    }
   ],
   "source": [
    "# download a month of all K2 data\n",
    "start_dt = datetime.datetime(1995, 1, 1, 0, 0, 0)\n",
    "end_dt = datetime.datetime(1995, 1, 31, 23, 59, 59)\n",
    "res = srs.data.download(\"NORSTAR_RIOMETER_K2_TXT\", start_dt, end_dt, overwrite=True)\n",
    "res.pretty_print()"
   ]
  }
 ],
 "metadata": {
  "kernelspec": {
   "display_name": "pyucalgarysrs39",
   "language": "python",
   "name": "python3"
  },
  "language_info": {
   "codemirror_mode": {
    "name": "ipython",
    "version": 3
   },
   "file_extension": ".py",
   "mimetype": "text/x-python",
   "name": "python",
   "nbconvert_exporter": "python",
   "pygments_lexer": "ipython3",
   "version": "3.9.19"
  }
 },
 "nbformat": 4,
 "nbformat_minor": 2
}
