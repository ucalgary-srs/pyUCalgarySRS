{
 "cells": [
  {
   "cell_type": "code",
   "execution_count": 1,
   "metadata": {},
   "outputs": [],
   "source": [
    "import pyucalgarysrs\n",
    "import datetime"
   ]
  },
  {
   "cell_type": "code",
   "execution_count": 2,
   "metadata": {},
   "outputs": [],
   "source": [
    "srs = pyucalgarysrs.PyUCalgarySRS()\n",
    "dataset_name = \"THEMIS_ASI_RAW\"\n",
    "start_dt = datetime.datetime(2023, 1, 1, 6, 0, 0)\n",
    "end_dt = datetime.datetime(2023, 1, 1, 6, 59, 59)\n",
    "site_uid = \"atha\""
   ]
  },
  {
   "cell_type": "code",
   "execution_count": 3,
   "metadata": {},
   "outputs": [
    {
     "data": {
      "application/vnd.jupyter.widget-view+json": {
       "model_id": "e14d4f8249a24c529e9aeb1158cee492",
       "version_major": 2,
       "version_minor": 0
      },
      "text/plain": [
       "Downloading THEMIS_ASI_RAW files:   0%|          | 0.00/128M [00:00<?, ?B/s]"
      ]
     },
     "metadata": {},
     "output_type": "display_data"
    }
   ],
   "source": [
    "r = srs.data.download(dataset_name, start_dt, end_dt, site_uid=site_uid, overwrite=True)"
   ]
  },
  {
   "cell_type": "code",
   "execution_count": 4,
   "metadata": {},
   "outputs": [
    {
     "data": {
      "application/vnd.jupyter.widget-view+json": {
       "model_id": "b033d94a4d5740a88c2aaa533782b7cf",
       "version_major": 2,
       "version_minor": 0
      },
      "text/plain": [
       "Downloading THEMIS_ASI_RAW files:   0%|          | 0.00/128M [00:00<?, ?B/s]"
      ]
     },
     "metadata": {},
     "output_type": "display_data"
    }
   ],
   "source": [
    "r = srs.data.download(dataset_name, start_dt, end_dt, site_uid=site_uid)"
   ]
  },
  {
   "cell_type": "code",
   "execution_count": 5,
   "metadata": {},
   "outputs": [
    {
     "data": {
      "application/vnd.jupyter.widget-view+json": {
       "model_id": "47c3088fc57f46bfae6b9e0246386ef7",
       "version_major": 2,
       "version_minor": 0
      },
      "text/plain": [
       "Downloading THEMIS_ASI_RAW files:   0%|          | 0/60 [00:00<?, ?files/s]"
      ]
     },
     "metadata": {},
     "output_type": "display_data"
    }
   ],
   "source": [
    "r = srs.data.get_urls(dataset_name, start_dt, end_dt, site_uid=site_uid)\n",
    "r = srs.data.download_using_urls(r)"
   ]
  }
 ],
 "metadata": {
  "kernelspec": {
   "display_name": "pyucalgarysrs311",
   "language": "python",
   "name": "python3"
  },
  "language_info": {
   "codemirror_mode": {
    "name": "ipython",
    "version": 3
   },
   "file_extension": ".py",
   "mimetype": "text/x-python",
   "name": "python",
   "nbconvert_exporter": "python",
   "pygments_lexer": "ipython3",
   "version": "3.11.11"
  }
 },
 "nbformat": 4,
 "nbformat_minor": 4
}
